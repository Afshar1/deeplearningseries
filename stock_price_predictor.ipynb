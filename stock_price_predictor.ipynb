{
 "cells": [
  {
   "cell_type": "markdown",
   "metadata": {
    "collapsed": true
   },
   "source": [
    "# Predict Stock Price\n",
    "\n",
    "1. Get historic stock price data\n",
    "2. Extract price to predict\n",
    "3. Normalize\n",
    "4. Create Time Series\n",
    "5. Build model\n",
    "6. Fit model\n",
    "7. Test and evaluate"
   ]
  },
  {
   "cell_type": "code",
   "execution_count": 1,
   "metadata": {},
   "outputs": [
    {
     "name": "stderr",
     "output_type": "stream",
     "text": [
      "Using TensorFlow backend.\n",
      "Using CNTK backend\n",
      "/home/nbuser/anaconda3_420/lib/python3.5/site-packages/keras/backend/cntk_backend.py:19: UserWarning: CNTK backend warning: GPU is not detected. CNTK's CPU version is not fully optimized,please run with GPU to get better performance.\n",
      "  'CNTK backend warning: GPU is not detected. '\n"
     ]
    }
   ],
   "source": [
    "from keras import backend as K\n",
    "import os\n",
    "from importlib import reload\n",
    "\n",
    "def set_keras_backend(backend):\n",
    "    if K.backend() != backend:\n",
    "        os.environ['KERAS_BACKEND'] = backend\n",
    "        reload(K)\n",
    "        assert K.backend() == backend\n",
    "\n",
    "set_keras_backend(\"cntk\")"
   ]
  },
  {
   "cell_type": "code",
   "execution_count": 2,
   "metadata": {},
   "outputs": [
    {
     "name": "stderr",
     "output_type": "stream",
     "text": [
      "/home/nbuser/anaconda3_420/lib/python3.5/site-packages/sklearn/cross_validation.py:44: DeprecationWarning: This module was deprecated in version 0.18 in favor of the model_selection module into which all the refactored classes and functions are moved. Also note that the interface of the new CV iterators are different from that of this module. This module will be removed in 0.20.\n",
      "  \"This module will be removed in 0.20.\", DeprecationWarning)\n"
     ]
    }
   ],
   "source": [
    "import numpy as np # linear algebra\n",
    "import pandas as pd # data processing, CSV file I/O (e.g. pd.read_csv)\n",
    "from keras.layers.core import Dense, Activation, Dropout\n",
    "from keras.layers.recurrent import LSTM\n",
    "from keras.models import Sequential\n",
    "from sklearn.cross_validation import  train_test_split\n",
    "from sklearn.preprocessing import MinMaxScaler\n",
    "from sklearn.metrics import mean_squared_error\n",
    "import matplotlib.pyplot as plt\n",
    "import math"
   ]
  },
  {
   "cell_type": "code",
   "execution_count": 3,
   "metadata": {},
   "outputs": [],
   "source": [
    "np.random.seed(7)"
   ]
  },
  {
   "cell_type": "code",
   "execution_count": 4,
   "metadata": {},
   "outputs": [
    {
     "data": {
      "text/html": [
       "<div>\n",
       "<table border=\"1\" class=\"dataframe\">\n",
       "  <thead>\n",
       "    <tr style=\"text-align: right;\">\n",
       "      <th></th>\n",
       "      <th>date</th>\n",
       "      <th>close</th>\n",
       "      <th>volume</th>\n",
       "      <th>open</th>\n",
       "      <th>high</th>\n",
       "      <th>low</th>\n",
       "    </tr>\n",
       "  </thead>\n",
       "  <tbody>\n",
       "    <tr>\n",
       "      <th>0</th>\n",
       "      <td>16:00</td>\n",
       "      <td>91.33</td>\n",
       "      <td>67,998,445</td>\n",
       "      <td>86.82</td>\n",
       "      <td>91.475</td>\n",
       "      <td>85.2500</td>\n",
       "    </tr>\n",
       "    <tr>\n",
       "      <th>1</th>\n",
       "      <td>2018/02/05</td>\n",
       "      <td>88.00</td>\n",
       "      <td>50588980.0000</td>\n",
       "      <td>90.56</td>\n",
       "      <td>93.240</td>\n",
       "      <td>88.0000</td>\n",
       "    </tr>\n",
       "    <tr>\n",
       "      <th>2</th>\n",
       "      <td>2018/02/02</td>\n",
       "      <td>91.78</td>\n",
       "      <td>47484680.0000</td>\n",
       "      <td>93.64</td>\n",
       "      <td>93.970</td>\n",
       "      <td>91.5000</td>\n",
       "    </tr>\n",
       "    <tr>\n",
       "      <th>3</th>\n",
       "      <td>2018/02/01</td>\n",
       "      <td>94.26</td>\n",
       "      <td>46866010.0000</td>\n",
       "      <td>94.79</td>\n",
       "      <td>96.070</td>\n",
       "      <td>93.5813</td>\n",
       "    </tr>\n",
       "    <tr>\n",
       "      <th>4</th>\n",
       "      <td>2018/01/31</td>\n",
       "      <td>95.01</td>\n",
       "      <td>47448270.0000</td>\n",
       "      <td>93.75</td>\n",
       "      <td>95.400</td>\n",
       "      <td>93.5100</td>\n",
       "    </tr>\n",
       "  </tbody>\n",
       "</table>\n",
       "</div>"
      ],
      "text/plain": [
       "         date  close         volume   open    high      low\n",
       "0       16:00  91.33     67,998,445  86.82  91.475  85.2500\n",
       "1  2018/02/05  88.00  50588980.0000  90.56  93.240  88.0000\n",
       "2  2018/02/02  91.78  47484680.0000  93.64  93.970  91.5000\n",
       "3  2018/02/01  94.26  46866010.0000  94.79  96.070  93.5813\n",
       "4  2018/01/31  95.01  47448270.0000  93.75  95.400  93.5100"
      ]
     },
     "execution_count": 4,
     "metadata": {},
     "output_type": "execute_result"
    }
   ],
   "source": [
    "#load the dataset\n",
    "msft_dataset = pd.read_csv('~/library/HistoricalQuotes.csv')\n",
    "msft_dataset.head()"
   ]
  },
  {
   "cell_type": "code",
   "execution_count": 5,
   "metadata": {},
   "outputs": [
    {
     "data": {
      "text/plain": [
       "date       object\n",
       "close     float64\n",
       "volume     object\n",
       "open      float64\n",
       "high      float64\n",
       "low       float64\n",
       "dtype: object"
      ]
     },
     "execution_count": 5,
     "metadata": {},
     "output_type": "execute_result"
    }
   ],
   "source": [
    "msft_dataset.dtypes"
   ]
  },
  {
   "cell_type": "code",
   "execution_count": 6,
   "metadata": {},
   "outputs": [],
   "source": [
    "msft_dataset['date'] = pd.to_datetime(msft_dataset['date'])\n",
    "msft_dataset['close'] = pd.to_numeric(msft_dataset['close'], downcast='float')"
   ]
  },
  {
   "cell_type": "code",
   "execution_count": 7,
   "metadata": {},
   "outputs": [
    {
     "name": "stdout",
     "output_type": "stream",
     "text": [
      "<class 'pandas.core.frame.DataFrame'>\n",
      "DatetimeIndex: 2520 entries, 2018-02-07 16:00:00 to 2008-02-05 00:00:00\n",
      "Data columns (total 5 columns):\n",
      "close     2520 non-null float32\n",
      "volume    2520 non-null object\n",
      "open      2520 non-null float64\n",
      "high      2520 non-null float64\n",
      "low       2520 non-null float64\n",
      "dtypes: float32(1), float64(3), object(1)\n",
      "memory usage: 108.3+ KB\n"
     ]
    }
   ],
   "source": [
    "msft_dataset.set_index('date',inplace=True)\n",
    "msft_dataset.info()"
   ]
  },
  {
   "cell_type": "code",
   "execution_count": 8,
   "metadata": {},
   "outputs": [],
   "source": [
    "msft_dataset.sort_index(inplace=True)"
   ]
  },
  {
   "cell_type": "code",
   "execution_count": 9,
   "metadata": {},
   "outputs": [
    {
     "data": {
      "image/png": "[encoded data removed]",
      "text/plain": [
       "<matplotlib.figure.Figure at 0x7f051a7e9080>"
      ]
     },
     "metadata": {},
     "output_type": "display_data"
    }
   ],
   "source": [
    "#extract just close prices as that is what we want to predict\n",
    "msft_close = msft_dataset['close']\n",
    "msft_close = msft_close.values.reshape(len(msft_close), 1)\n",
    "plt.plot(msft_close)\n",
    "plt.show()"
   ]
  },
  {
   "cell_type": "code",
   "execution_count": 10,
   "metadata": {},
   "outputs": [],
   "source": [
    "#normalize data\n",
    "scaler = MinMaxScaler(feature_range=(0,1))"
   ]
  },
  {
   "cell_type": "code",
   "execution_count": 11,
   "metadata": {},
   "outputs": [
    {
     "data": {
      "text/plain": [
       "array([[ 0.17430502],\n",
       "       [ 0.167418  ],\n",
       "       [ 0.16240922],\n",
       "       ..., \n",
       "       [ 0.95955426],\n",
       "       [ 0.91222137],\n",
       "       [ 0.95391935]], dtype=float32)"
      ]
     },
     "execution_count": 11,
     "metadata": {},
     "output_type": "execute_result"
    }
   ],
   "source": [
    "msft_close = scaler.fit_transform(msft_close)\n",
    "msft_close"
   ]
  },
  {
   "cell_type": "code",
   "execution_count": 12,
   "metadata": {},
   "outputs": [
    {
     "name": "stdout",
     "output_type": "stream",
     "text": [
      "Split data into train and test:  1764 756\n"
     ]
    }
   ],
   "source": [
    "#split data into train and test\n",
    "train_size = int(len(msft_close)* 0.7)\n",
    "test_size = len(msft_close) - train_size\n",
    "\n",
    "msft_train, msft_test = msft_close[0:train_size, :], msft_close[train_size:len(msft_close), :]\n",
    "\n",
    "print('Split data into train and test: ', len(msft_train), len(msft_test))"
   ]
  },
  {
   "cell_type": "code",
   "execution_count": 13,
   "metadata": {},
   "outputs": [],
   "source": [
    "#need to now convert the data into time series looking back over a period of days...e.g. use last 7 days to predict price\n",
    "\n",
    "def create_ts(ds, series):\n",
    "    X, Y =[], []\n",
    "    for i in range(len(ds)-series - 1):\n",
    "        item = ds[i:(i+series), 0]\n",
    "        X.append(item)\n",
    "        Y.append(ds[i+series, 0])\n",
    "    return np.array(X), np.array(Y)\n",
    "\n",
    "series = 7\n",
    "\n",
    "trainX, trainY = create_ts(msft_train, series)\n",
    "testX, testY = create_ts(msft_test, series)\n"
   ]
  },
  {
   "cell_type": "code",
   "execution_count": 14,
   "metadata": {},
   "outputs": [
    {
     "data": {
      "text/plain": [
       "array([[ 0.17430502,  0.167418  ,  0.16240922, ...,  0.16353619,\n",
       "         0.16516405,  0.17292762],\n",
       "       [ 0.167418  ,  0.16240922,  0.16791886, ...,  0.16516405,\n",
       "         0.17292762,  0.16716754],\n",
       "       [ 0.16240922,  0.16791886,  0.16353619, ...,  0.17292762,\n",
       "         0.16716754,  0.1661658 ],\n",
       "       ..., \n",
       "       [ 0.40045083,  0.40107691,  0.39894813, ...,  0.32607061,\n",
       "         0.33633858,  0.31617832],\n",
       "       [ 0.40107691,  0.39894813,  0.34447783, ...,  0.33633858,\n",
       "         0.31617832,  0.32719761],\n",
       "       [ 0.39894813,  0.34447783,  0.32607061, ...,  0.31617832,\n",
       "         0.32719761,  0.33120459]], dtype=float32)"
      ]
     },
     "execution_count": 14,
     "metadata": {},
     "output_type": "execute_result"
    }
   ],
   "source": [
    "trainX"
   ]
  },
  {
   "cell_type": "code",
   "execution_count": 15,
   "metadata": {},
   "outputs": [
    {
     "data": {
      "text/plain": [
       "array([ 0.17430502,  0.167418  ,  0.16240922,  0.16791886,  0.16353619,\n",
       "        0.16516405,  0.17292762], dtype=float32)"
      ]
     },
     "execution_count": 15,
     "metadata": {},
     "output_type": "execute_result"
    }
   ],
   "source": [
    "trainX[0]"
   ]
  },
  {
   "cell_type": "code",
   "execution_count": 16,
   "metadata": {},
   "outputs": [],
   "source": [
    "#reshape into  LSTM format - samples, steps, features\n",
    "trainX = np.reshape(trainX, (trainX.shape[0], trainX.shape[1], 1))\n",
    "testX = np.reshape(testX, (testX.shape[0], testX.shape[1], 1))"
   ]
  },
  {
   "cell_type": "code",
   "execution_count": 19,
   "metadata": {},
   "outputs": [
    {
     "name": "stdout",
     "output_type": "stream",
     "text": [
      "Epoch 1/100\n",
      "1756/1756 [==============================] - 0s - loss: 0.0116     \n",
      "Epoch 2/100\n",
      "1756/1756 [==============================] - 0s - loss: 0.0026     \n",
      "Epoch 3/100\n",
      "1756/1756 [==============================] - 0s - loss: 0.0016     \n",
      "Epoch 4/100\n",
      "1756/1756 [==============================] - 0s - loss: 9.2738e-04     \n",
      "Epoch 5/100\n",
      "1756/1756 [==============================] - 0s - loss: 4.6664e-04     \n",
      "Epoch 6/100\n",
      "1756/1756 [==============================] - 0s - loss: 2.4888e-04     \n",
      "Epoch 7/100\n",
      "1756/1756 [==============================] - 0s - loss: 1.7485e-04     \n",
      "Epoch 8/100\n",
      "1756/1756 [==============================] - 0s - loss: 1.5534e-04     \n",
      "Epoch 9/100\n",
      "1756/1756 [==============================] - 0s - loss: 1.5097e-04     \n",
      "Epoch 10/100\n",
      "1756/1756 [==============================] - 0s - loss: 1.4955e-04     \n",
      "Epoch 11/100\n",
      "1756/1756 [==============================] - 0s - loss: 1.4849e-04     \n",
      "Epoch 12/100\n",
      "1756/1756 [==============================] - 0s - loss: 1.4429e-04     \n",
      "Epoch 13/100\n",
      "1756/1756 [==============================] - 0s - loss: 1.4249e-04     \n",
      "Epoch 14/100\n",
      "1756/1756 [==============================] - 0s - loss: 1.4013e-04     \n",
      "Epoch 15/100\n",
      "1756/1756 [==============================] - 0s - loss: 1.3803e-04     \n",
      "Epoch 16/100\n",
      "1756/1756 [==============================] - 0s - loss: 1.3585e-04     \n",
      "Epoch 17/100\n",
      "1756/1756 [==============================] - 0s - loss: 1.3390e-04     \n",
      "Epoch 18/100\n",
      "1756/1756 [==============================] - 0s - loss: 1.3172e-04     \n",
      "Epoch 19/100\n",
      "1756/1756 [==============================] - 0s - loss: 1.3100e-04     \n",
      "Epoch 20/100\n",
      "1756/1756 [==============================] - 0s - loss: 1.2700e-04     \n",
      "Epoch 21/100\n",
      "1756/1756 [==============================] - 0s - loss: 1.2615e-04     \n",
      "Epoch 22/100\n",
      "1756/1756 [==============================] - 0s - loss: 1.2385e-04     \n",
      "Epoch 23/100\n",
      "1756/1756 [==============================] - 0s - loss: 1.2148e-04     \n",
      "Epoch 24/100\n",
      "1756/1756 [==============================] - 0s - loss: 1.2155e-04     \n",
      "Epoch 25/100\n",
      "1756/1756 [==============================] - 0s - loss: 1.1795e-04     \n",
      "Epoch 26/100\n",
      "1756/1756 [==============================] - 0s - loss: 1.1788e-04     \n",
      "Epoch 27/100\n",
      "1756/1756 [==============================] - 0s - loss: 1.1539e-04     \n",
      "Epoch 28/100\n",
      "1756/1756 [==============================] - 0s - loss: 1.1321e-04     \n",
      "Epoch 29/100\n",
      "1756/1756 [==============================] - 0s - loss: 1.1164e-04     \n",
      "Epoch 30/100\n",
      "1756/1756 [==============================] - 0s - loss: 1.1127e-04     \n",
      "Epoch 31/100\n",
      "1756/1756 [==============================] - 0s - loss: 1.0902e-04     \n",
      "Epoch 32/100\n",
      "1756/1756 [==============================] - 0s - loss: 1.0835e-04     \n",
      "Epoch 33/100\n",
      "1756/1756 [==============================] - 0s - loss: 1.0673e-04     \n",
      "Epoch 34/100\n",
      "1756/1756 [==============================] - 0s - loss: 1.0602e-04     \n",
      "Epoch 35/100\n",
      "1756/1756 [==============================] - 0s - loss: 1.0460e-04     \n",
      "Epoch 36/100\n",
      "1756/1756 [==============================] - 0s - loss: 1.0408e-04     \n",
      "Epoch 37/100\n",
      "1756/1756 [==============================] - 0s - loss: 1.0271e-04     \n",
      "Epoch 38/100\n",
      "1756/1756 [==============================] - 0s - loss: 1.0225e-04     \n",
      "Epoch 39/100\n",
      "1756/1756 [==============================] - 0s - loss: 1.0206e-04     \n",
      "Epoch 40/100\n",
      "1756/1756 [==============================] - 0s - loss: 1.0156e-04     \n",
      "Epoch 41/100\n",
      "1756/1756 [==============================] - 0s - loss: 9.9167e-05     \n",
      "Epoch 42/100\n",
      "1756/1756 [==============================] - 0s - loss: 9.9631e-05     \n",
      "Epoch 43/100\n",
      "1756/1756 [==============================] - 0s - loss: 9.8027e-05     \n",
      "Epoch 44/100\n",
      "1756/1756 [==============================] - 0s - loss: 9.7440e-05     \n",
      "Epoch 45/100\n",
      "1756/1756 [==============================] - 0s - loss: 9.7561e-05     \n",
      "Epoch 46/100\n",
      "1756/1756 [==============================] - 0s - loss: 9.6687e-05     \n",
      "Epoch 47/100\n",
      "1756/1756 [==============================] - 0s - loss: 9.7849e-05     \n",
      "Epoch 48/100\n",
      "1756/1756 [==============================] - 0s - loss: 9.7156e-05     \n",
      "Epoch 49/100\n",
      "1756/1756 [==============================] - 0s - loss: 9.5147e-05     \n",
      "Epoch 50/100\n",
      "1756/1756 [==============================] - 0s - loss: 9.5845e-05     \n",
      "Epoch 51/100\n",
      "1756/1756 [==============================] - 0s - loss: 9.6749e-05     \n",
      "Epoch 52/100\n",
      "1756/1756 [==============================] - 0s - loss: 9.6565e-05     \n",
      "Epoch 53/100\n",
      "1756/1756 [==============================] - 0s - loss: 9.4321e-05     \n",
      "Epoch 54/100\n",
      "1756/1756 [==============================] - 0s - loss: 9.4437e-05     \n",
      "Epoch 55/100\n",
      "1756/1756 [==============================] - 0s - loss: 9.4141e-05     \n",
      "Epoch 56/100\n",
      "1756/1756 [==============================] - 0s - loss: 9.3355e-05     \n",
      "Epoch 57/100\n",
      "1756/1756 [==============================] - 0s - loss: 9.2018e-05     \n",
      "Epoch 58/100\n",
      "1756/1756 [==============================] - 0s - loss: 9.2348e-05     \n",
      "Epoch 59/100\n",
      "1756/1756 [==============================] - 0s - loss: 9.4049e-05     \n",
      "Epoch 60/100\n",
      "1756/1756 [==============================] - 0s - loss: 9.1578e-05     \n",
      "Epoch 61/100\n",
      "1756/1756 [==============================] - 0s - loss: 9.1822e-05     \n",
      "Epoch 62/100\n",
      "1756/1756 [==============================] - 0s - loss: 9.3079e-05     \n",
      "Epoch 63/100\n",
      "1756/1756 [==============================] - 0s - loss: 9.1892e-05     \n",
      "Epoch 64/100\n",
      "1756/1756 [==============================] - 0s - loss: 9.1110e-05     \n",
      "Epoch 65/100\n",
      "1756/1756 [==============================] - 0s - loss: 9.2623e-05     \n",
      "Epoch 66/100\n",
      "1756/1756 [==============================] - 0s - loss: 9.1186e-05     \n",
      "Epoch 67/100\n",
      "1756/1756 [==============================] - 0s - loss: 9.0814e-05     \n",
      "Epoch 68/100\n",
      "1756/1756 [==============================] - 0s - loss: 9.0554e-05     \n",
      "Epoch 69/100\n",
      "1756/1756 [==============================] - 0s - loss: 9.0855e-05     \n",
      "Epoch 70/100\n",
      "1756/1756 [==============================] - 0s - loss: 9.0454e-05     \n",
      "Epoch 71/100\n",
      "1756/1756 [==============================] - 0s - loss: 9.0162e-05     \n",
      "Epoch 72/100\n",
      "1756/1756 [==============================] - 0s - loss: 8.7955e-05     \n",
      "Epoch 73/100\n",
      "1756/1756 [==============================] - 0s - loss: 9.0543e-05     \n",
      "Epoch 74/100\n",
      "1756/1756 [==============================] - 0s - loss: 8.9320e-05     \n",
      "Epoch 75/100\n",
      "1756/1756 [==============================] - 0s - loss: 9.0249e-05     \n",
      "Epoch 76/100\n",
      "1756/1756 [==============================] - 0s - loss: 8.6588e-05     \n",
      "Epoch 77/100\n",
      "1756/1756 [==============================] - 0s - loss: 8.7728e-05     \n",
      "Epoch 78/100\n",
      "1756/1756 [==============================] - 0s - loss: 8.9248e-05     \n",
      "Epoch 79/100\n",
      "1756/1756 [==============================] - 0s - loss: 8.7452e-05     \n",
      "Epoch 80/100\n",
      "1756/1756 [==============================] - 0s - loss: 8.8095e-05     \n",
      "Epoch 81/100\n",
      "1756/1756 [==============================] - 0s - loss: 8.7210e-05     \n",
      "Epoch 82/100\n",
      "1756/1756 [==============================] - 0s - loss: 8.6662e-05     \n",
      "Epoch 83/100\n",
      "1756/1756 [==============================] - 0s - loss: 8.5006e-05     \n",
      "Epoch 84/100\n",
      "1756/1756 [==============================] - 0s - loss: 8.6366e-05     \n",
      "Epoch 85/100\n",
      "1756/1756 [==============================] - 0s - loss: 8.5888e-05     \n",
      "Epoch 86/100\n",
      "1756/1756 [==============================] - 0s - loss: 8.5586e-05     \n",
      "Epoch 87/100\n",
      "1756/1756 [==============================] - 0s - loss: 8.5922e-05     \n",
      "Epoch 88/100\n",
      "1756/1756 [==============================] - 0s - loss: 8.3764e-05     \n",
      "Epoch 89/100\n",
      "1756/1756 [==============================] - 0s - loss: 8.6982e-05     \n",
      "Epoch 90/100\n",
      "1756/1756 [==============================] - 0s - loss: 8.4982e-05     \n",
      "Epoch 91/100\n",
      "1756/1756 [==============================] - 0s - loss: 8.3283e-05     \n",
      "Epoch 92/100\n",
      "1756/1756 [==============================] - 0s - loss: 8.6153e-05     \n",
      "Epoch 93/100\n",
      "1756/1756 [==============================] - 0s - loss: 8.3700e-05     \n",
      "Epoch 94/100\n",
      "1756/1756 [==============================] - 0s - loss: 8.1712e-05     \n",
      "Epoch 95/100\n",
      "1756/1756 [==============================] - 0s - loss: 8.2159e-05     \n",
      "Epoch 96/100\n",
      "1756/1756 [==============================] - 0s - loss: 8.0967e-05     \n",
      "Epoch 97/100\n"
     ]
    },
    {
     "name": "stdout",
     "output_type": "stream",
     "text": [
      "1756/1756 [==============================] - 0s - loss: 8.1732e-05     \n",
      "Epoch 98/100\n",
      "1756/1756 [==============================] - 0s - loss: 8.1559e-05     \n",
      "Epoch 99/100\n",
      "1756/1756 [==============================] - 0s - loss: 8.0210e-05     \n",
      "Epoch 100/100\n",
      "1756/1756 [==============================] - 0s - loss: 7.9433e-05     \n"
     ]
    },
    {
     "data": {
      "text/plain": [
       "<keras.callbacks.History at 0x7f051a27ed30>"
      ]
     },
     "execution_count": 19,
     "metadata": {},
     "output_type": "execute_result"
    }
   ],
   "source": [
    "#build the model\n",
    "model = Sequential()\n",
    "model.add(LSTM(4, input_shape=(series, 1)))\n",
    "model.add(Dense(1))\n",
    "model.compile(loss='mse', optimizer='adam')\n",
    "#fit the model\n",
    "model.fit(trainX, trainY, epochs=100, batch_size=32)"
   ]
  },
  {
   "cell_type": "code",
   "execution_count": 20,
   "metadata": {},
   "outputs": [],
   "source": [
    "#test this model out\n",
    "trainPredictions = model.predict(trainX)\n",
    "testPredictions = model.predict(testX)\n",
    "#unscale predictions\n",
    "trainPredictions = scaler.inverse_transform(trainPredictions)\n",
    "testPredictions = scaler.inverse_transform(testPredictions)\n",
    "trainY = scaler.inverse_transform([trainY])\n",
    "testY = scaler.inverse_transform([testY])"
   ]
  },
  {
   "cell_type": "code",
   "execution_count": 21,
   "metadata": {},
   "outputs": [
    {
     "name": "stdout",
     "output_type": "stream",
     "text": [
      "Train score: %.2f rmse 0.7209341979280773\n",
      "Test score: %.2f rmse 4.938673008857972\n"
     ]
    }
   ],
   "source": [
    "#lets calculate the root mean squared error\n",
    "trainScore = math.sqrt(mean_squared_error(trainY[0], trainPredictions[:, 0]))\n",
    "testScore = math.sqrt(mean_squared_error(testY[0], testPredictions[:, 0]))\n",
    "print('Train score: %.2f rmse', trainScore)\n",
    "print('Test score: %.2f rmse', testScore)\n",
    "\n"
   ]
  },
  {
   "cell_type": "code",
   "execution_count": 24,
   "metadata": {},
   "outputs": [
    {
     "data": {
      "image/png": "[encoded data removed]",
      "text/plain": [
       "<matplotlib.figure.Figure at 0x7f051a695dd8>"
      ]
     },
     "metadata": {},
     "output_type": "display_data"
    }
   ],
   "source": [
    "#lets plot the predictions on a graph and see how well it did\n",
    "train_plot = np.empty_like(msft_close)\n",
    "train_plot[:,:] = np.nan\n",
    "train_plot[series:len(trainPredictions)+series, :] = trainPredictions\n",
    "\n",
    "test_plot = np.empty_like(msft_close)\n",
    "test_plot[:,:] = np.nan\n",
    "test_plot[len(trainPredictions)+(series*2)+1:len(msft_close)-1, :] = testPredictions\n",
    "\n",
    "#plot on graph\n",
    "plt.plot(scaler.inverse_transform(msft_close))\n",
    "plt.plot(train_plot)\n",
    "plt.plot(test_plot)\n",
    "plt.show()\n"
   ]
  },
  {
   "cell_type": "code",
   "execution_count": null,
   "metadata": {},
   "outputs": [],
   "source": []
  }
 ],
 "metadata": {
  "kernelspec": {
   "display_name": "Python 3",
   "language": "python",
   "name": "python3"
  },
  "language_info": {
   "codemirror_mode": {
    "name": "ipython",
    "version": 3
   },
   "file_extension": ".py",
   "mimetype": "text/x-python",
   "name": "python",
   "nbconvert_exporter": "python",
   "pygments_lexer": "ipython3",
   "version": "3.5.4"
  }
 },
 "nbformat": 4,
 "nbformat_minor": 2
}
